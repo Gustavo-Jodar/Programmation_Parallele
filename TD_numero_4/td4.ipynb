{
  "nbformat": 4,
  "nbformat_minor": 0,
  "metadata": {
    "colab": {
      "provenance": []
    },
    "kernelspec": {
      "name": "python3",
      "display_name": "Python 3"
    },
    "language_info": {
      "name": "python"
    },
    "accelerator": "GPU"
  },
  "cells": [
    {
      "cell_type": "markdown",
      "metadata": {
        "id": "etdu6cUmeDmX"
      },
      "source": [
        "# Configurer votre colab pour le calcul sur GPU\n",
        "Dans le menu au dessus, choisir le sous-menu **Exécution** puis l'option **Modifier le type d'exécution**. \n",
        "\n",
        "Une fenêtre apparaît où vous pouvez choisir un accélérateur matériel. Choisissez un *GPU* puis *enregistrer* votre choix.\n",
        "\n",
        "Afin de vérifier que vous avez bien configuré votre session pour utiliser un GPU, exécuter le code ci-dessous (en passant la souris, une petite flèche pour l'exécuter apparaît).\n",
        "\n",
        "Si tout se passe bien, un tableau (en ascii) apparaît avec le type de carte (et son architecture) auquel vous avez accès. Si un message d'erreur apparaît, vérifiez dans **Modifier le type d'exécution** que l'accélérateur matériel est bien configuré pour un *GPU*"
      ]
    },
    {
      "cell_type": "code",
      "metadata": {
        "colab": {
          "base_uri": "https://localhost:8080/"
        },
        "id": "AisG7sW_bImi",
        "outputId": "a0455e74-e06a-44bb-b66f-e233a9c84dee"
      },
      "source": [
        "!nvidia-smi"
      ],
      "execution_count": 1,
      "outputs": [
        {
          "output_type": "stream",
          "name": "stdout",
          "text": [
            "Mon Feb 20 21:54:34 2023       \n",
            "+-----------------------------------------------------------------------------+\n",
            "| NVIDIA-SMI 510.47.03    Driver Version: 510.47.03    CUDA Version: 11.6     |\n",
            "|-------------------------------+----------------------+----------------------+\n",
            "| GPU  Name        Persistence-M| Bus-Id        Disp.A | Volatile Uncorr. ECC |\n",
            "| Fan  Temp  Perf  Pwr:Usage/Cap|         Memory-Usage | GPU-Util  Compute M. |\n",
            "|                               |                      |               MIG M. |\n",
            "|===============================+======================+======================|\n",
            "|   0  Tesla T4            Off  | 00000000:00:04.0 Off |                    0 |\n",
            "| N/A   48C    P0    26W /  70W |      0MiB / 15360MiB |      0%      Default |\n",
            "|                               |                      |                  N/A |\n",
            "+-------------------------------+----------------------+----------------------+\n",
            "                                                                               \n",
            "+-----------------------------------------------------------------------------+\n",
            "| Processes:                                                                  |\n",
            "|  GPU   GI   CI        PID   Type   Process name                  GPU Memory |\n",
            "|        ID   ID                                                   Usage      |\n",
            "|=============================================================================|\n",
            "|  No running processes found                                                 |\n",
            "+-----------------------------------------------------------------------------+\n"
          ]
        }
      ]
    },
    {
      "cell_type": "markdown",
      "metadata": {
        "id": "lKT2rlVxgil3"
      },
      "source": [
        "# Installation de PyCuda\n",
        "\n",
        "Pour utiliser le GPU sous Python il faut soit installer **PyCuda** pour effectuer des calculs, soit **PyTorch** pour effectuer du machine learning accéléré par les GPUs.\n",
        "\n",
        "Dans ce TP, nous nous bornerons uniquement à effectuer des calculs sur GPU !\n",
        "\n",
        "Pour cela, il faut d'abord installer pyCuda et donc exécuter le code ci-dessous (toujours en appuyant sur la flèche pour exécuter le code, et attendez, cela prend un petit moment...)"
      ]
    },
    {
      "cell_type": "code",
      "metadata": {
        "colab": {
          "base_uri": "https://localhost:8080/"
        },
        "id": "juIs9Ostgkoc",
        "outputId": "6883b796-ae51-4ec7-9087-c96a881e763a"
      },
      "source": [
        "!pip install pycuda"
      ],
      "execution_count": 2,
      "outputs": [
        {
          "metadata": {
            "tags": null
          },
          "name": "stdout",
          "output_type": "stream",
          "text": [
            "Looking in indexes: https://pypi.org/simple, https://us-python.pkg.dev/colab-wheels/public/simple/\n",
            "Collecting pycuda\n",
            "  Downloading pycuda-2022.2.2.tar.gz (1.7 MB)\n",
            "\u001b[2K     \u001b[90m━━━━━━━━━━━━━━━━━━━━━━━━━━━━━━━━━━━━━━━━\u001b[0m \u001b[32m1.7/1.7 MB\u001b[0m \u001b[31m21.7 MB/s\u001b[0m eta \u001b[36m0:00:00\u001b[0m\n",
            "\u001b[?25h  Installing build dependencies ... \u001b[?25l\u001b[?25hdone\n",
            "  Getting requirements to build wheel ... \u001b[?25l\u001b[?25hdone\n",
            "  Preparing metadata (pyproject.toml) ... \u001b[?25l\u001b[?25hdone\n",
            "Requirement already satisfied: appdirs>=1.4.0 in /usr/local/lib/python3.8/dist-packages (from pycuda) (1.4.4)\n",
            "Collecting pytools>=2011.2\n",
            "  Downloading pytools-2022.1.14.tar.gz (74 kB)\n",
            "\u001b[2K     \u001b[90m━━━━━━━━━━━━━━━━━━━━━━━━━━━━━━━━━━━━━━━━\u001b[0m \u001b[32m74.6/74.6 KB\u001b[0m \u001b[31m9.1 MB/s\u001b[0m eta \u001b[36m0:00:00\u001b[0m\n",
            "\u001b[?25h  Preparing metadata (setup.py) ... \u001b[?25l\u001b[?25hdone\n",
            "Collecting mako\n",
            "  Downloading Mako-1.2.4-py3-none-any.whl (78 kB)\n",
            "\u001b[2K     \u001b[90m━━━━━━━━━━━━━━━━━━━━━━━━━━━━━━━━━━━━━━━━\u001b[0m \u001b[32m78.7/78.7 KB\u001b[0m \u001b[31m10.0 MB/s\u001b[0m eta \u001b[36m0:00:00\u001b[0m\n",
            "\u001b[?25hRequirement already satisfied: platformdirs>=2.2.0 in /usr/local/lib/python3.8/dist-packages (from pytools>=2011.2->pycuda) (3.0.0)\n",
            "Requirement already satisfied: typing_extensions>=4.0 in /usr/local/lib/python3.8/dist-packages (from pytools>=2011.2->pycuda) (4.5.0)\n",
            "Requirement already satisfied: MarkupSafe>=0.9.2 in /usr/local/lib/python3.8/dist-packages (from mako->pycuda) (2.0.1)\n",
            "Building wheels for collected packages: pycuda, pytools\n",
            "  Building wheel for pycuda (pyproject.toml) ... \u001b[?25l\u001b[?25hdone\n",
            "  Created wheel for pycuda: filename=pycuda-2022.2.2-cp38-cp38-linux_x86_64.whl size=662008 sha256=142528d6fb4811a3859005e6b0ef4cbfbbaed024244a8eb88be40dccc6f1e9df\n",
            "  Stored in directory: /root/.cache/pip/wheels/7b/41/0d/7cecb04af969d283ebe4a69579a8b2baec0d010a1ac4159f7e\n",
            "  Building wheel for pytools (setup.py) ... \u001b[?25l\u001b[?25hdone\n",
            "  Created wheel for pytools: filename=pytools-2022.1.14-py2.py3-none-any.whl size=69870 sha256=05510df86b3fef3c187b1c15c1875cb10015909ed3505fcb1dcde872855f8ac9\n",
            "  Stored in directory: /root/.cache/pip/wheels/cb/fc/a9/1e7e56fe02d7f58eaff555f22e79d4fc2d817012291254bae2\n",
            "Successfully built pycuda pytools\n",
            "Installing collected packages: pytools, mako, pycuda\n",
            "Successfully installed mako-1.2.4 pycuda-2022.2.2 pytools-2022.1.14\n"
          ]
        }
      ]
    },
    {
      "cell_type": "markdown",
      "metadata": {
        "id": "qudDlvJtlFvM"
      },
      "source": [
        "# Vérification du bon fonctionnement du module PyCuda\n",
        "\n",
        "Afin de vérifier le bon fonctionnement de l'installation, nous allons écrire un script Cuda qui servira en même temps d'exemple pour le TP d'aujourd'hui. Ce script sera scindé en plusieurs morceaux et commenté pour que vous compreniez chaque partie du code.\n",
        "\n",
        "Ce code sera très simple : on va créer une matrice 4x4 avec des données prises \"au hasard\" (mais avec une graine aléatoire fixée, donc...) , recopier ce tableau dans la mémoire de la carte graphique et demander à la carte graphique de doubler la valeur de chaque élément de la matrice puis de recopier dans la mémoire de l'ordinateur les valeurs calculées. On affiche ensuite la matrice initiale et la matrice transformée.\n",
        "\n",
        "Dans un premier temps, chargeons les modules python nécessaire à l'exécution d'un noyau Cuda (**Remarque** : l'importation de ces modules n'est nécessaire qu'une seule fois pour **TOUTE** la session. Il sera donc inutile de reimporter ces modules dans le reste du TD !) :"
      ]
    },
    {
      "cell_type": "code",
      "metadata": {
        "id": "oqWKO6k_mw45"
      },
      "source": [
        "import pycuda.driver as cuda\n",
        "import pycuda.autoinit\n",
        "from pycuda.compiler import SourceModule"
      ],
      "execution_count": 3,
      "outputs": []
    },
    {
      "cell_type": "markdown",
      "metadata": {
        "id": "aDlqPZFGm1mH"
      },
      "source": [
        "Créons à l'aide de numpy un tableau *a* dont les valeurs aléatoires sont issues d'une graine fixée :"
      ]
    },
    {
      "cell_type": "code",
      "metadata": {
        "id": "eHjGxA72nD5Q"
      },
      "source": [
        "import numpy\n",
        "numpy.random.seed(1729)"
      ],
      "execution_count": 4,
      "outputs": []
    },
    {
      "cell_type": "markdown",
      "metadata": {
        "id": "PB_UhGnJnL0H"
      },
      "source": [
        "Puisque certaines cartes graphiques supportent mal le double précision, nous allons demander à Python que les éléments de *a* soient en simple précision :"
      ]
    },
    {
      "cell_type": "code",
      "metadata": {
        "id": "BN3tt27lnZYf",
        "colab": {
          "base_uri": "https://localhost:8080/"
        },
        "outputId": "efc83d57-c0f2-46c1-bf61-afd0f60eb0eb"
      },
      "source": [
        "a = numpy.random.randn(4,4) # Sous forme de matrice 4 x 4\n",
        "a = a.astype(numpy.float32)\n",
        "print(a.nbytes)\n",
        "print(a)"
      ],
      "execution_count": 5,
      "outputs": [
        {
          "metadata": {
            "tags": null
          },
          "name": "stdout",
          "output_type": "stream",
          "text": [
            "64\n",
            "[[-0.6873394  -0.82099473  1.6523609  -0.57529306]\n",
            " [ 1.0989678   0.92594606 -0.9934138  -0.8582211 ]\n",
            " [ 0.07488676  0.5293555   0.12095155 -0.22442362]\n",
            " [-1.5566785   0.05594088  0.16147153 -2.1346416 ]]\n"
          ]
        }
      ]
    },
    {
      "cell_type": "markdown",
      "metadata": {
        "id": "bFvuQK_wnccf"
      },
      "source": [
        "Nous allons ensuite allouer de la place mémoire sur la mémoire vive du GPU. Comme en C, la place mémoire est exprimée en *Octets* :"
      ]
    },
    {
      "cell_type": "code",
      "metadata": {
        "id": "5WXc0_Q8nqw3"
      },
      "source": [
        "a_gpu = cuda.mem_alloc(a.nbytes)"
      ],
      "execution_count": 6,
      "outputs": []
    },
    {
      "cell_type": "markdown",
      "metadata": {
        "id": "LqIHO5oYnugQ"
      },
      "source": [
        "Une fois la réservation sur le GPU de faite, on recopie les valeurs de *a* dans le tableau *a_gpu* que l'on vient de réserver (htod signifie host **to** device):"
      ]
    },
    {
      "cell_type": "code",
      "metadata": {
        "id": "JMiVGjKEoAJJ"
      },
      "source": [
        "cuda.memcpy_htod(a_gpu, a)"
      ],
      "execution_count": 7,
      "outputs": []
    },
    {
      "cell_type": "markdown",
      "metadata": {
        "id": "G2EIIhLwoDLY"
      },
      "source": [
        "Il faut ensuite écrire le noyau qui s'exécutera sur la carte graphique à l'aide du langage CUDA (qui est une extension du langage C).\n",
        "\n",
        "**Remarquez** dans le code qu'on s'assure que les indices donnés par les numéros de threads ne dépassent pas la dimension de la matrice !"
      ]
    },
    {
      "cell_type": "code",
      "metadata": {
        "id": "p_uaN7JNok9-"
      },
      "source": [
        "mod = SourceModule(\"\"\"\n",
        "__global__ void doublify( int dim_x, int dim_y, float *a )\n",
        "{\n",
        "  if ((threadIdx.x < dim_x) && (threadIdx.y < dim_y))\n",
        "  {\n",
        "    int idx = threadIdx.x + threadIdx.y * dim_x;\n",
        "    a[idx] *= 2;\n",
        "  }\n",
        "}\n",
        "\"\"\")"
      ],
      "execution_count": 8,
      "outputs": []
    },
    {
      "cell_type": "markdown",
      "metadata": {
        "id": "IqsGbd-LqAlF"
      },
      "source": [
        "Nous allons récupérer ensuite un \"handle\" sur le noyau cuda que l'on vient de créer (en invoquant le nom de la fonction) et l'invoquer sur la carte graphique en dimensionnant la grille de calcul à l'aide de *block=(4,4,1)* (et en l'adaptant aux dimensions de la matrice).\n",
        "\n",
        "Ici, nous n'avons pas besoin de configurer de grilles car la dimension de la matrice *a* est petite, mais comme la taille d'un bloc dans une direction est limitée à 256, pour des cas plus gros, il faudra également passer une grille en paramètre à l'aide de *grid=(x,y,z)* où *x,y* et *z* sont des valeurs entières positives et utiliser dans le noyau cuda les valeurs *x,y* et *z* de **blockIdx** et **blockDim**.\n",
        "\n",
        "**REMARQUE IMPORTANTE** : Le noyau cuda ne veut que des types C basiques en argument. Or un entier python est tout sauf un type basique du C. Donc pour passer un argument entier à un noyau cuda, il faut créer un entier 32 bits à l'aide de numpy.int32"
      ]
    },
    {
      "cell_type": "code",
      "metadata": {
        "id": "QW9-l0XaqSuH"
      },
      "source": [
        "func = mod.get_function(\"doublify\")\n",
        "dim = numpy.int32(4)\n",
        "func(dim, dim, a_gpu, block=(4,4,1))"
      ],
      "execution_count": 9,
      "outputs": []
    },
    {
      "cell_type": "markdown",
      "metadata": {
        "id": "tbE0Dg-7qRlt"
      },
      "source": [
        "Il ne reste plus qu'à récupérer les nouvelles valeurs de la matrice en transférant les données de la matrice contenue par le GPU dans un tableau numpy se trouvant dans la RAM de l'ordinateur (dtoh signifie device **to** host) :"
      ]
    },
    {
      "cell_type": "code",
      "metadata": {
        "id": "Dt77Pr7JqrPU"
      },
      "source": [
        "a_doubled = numpy.empty_like(a)\n",
        "cuda.memcpy_dtoh(a_doubled, a_gpu)"
      ],
      "execution_count": 10,
      "outputs": []
    },
    {
      "cell_type": "markdown",
      "metadata": {
        "id": "aCEHT9OMwLCl"
      },
      "source": [
        "Il ne reste plus qu'à afficher la matrice initiale puis la matrice obtenue par le calcul sur GPU :"
      ]
    },
    {
      "cell_type": "code",
      "metadata": {
        "colab": {
          "base_uri": "https://localhost:8080/"
        },
        "id": "s7-qzHVFwP9R",
        "outputId": "60db7e99-ec2d-4613-dd53-19cb7d448206"
      },
      "source": [
        "print(f\"a : {a}\")\n",
        "print(f\"a_gpu : {a_doubled}\")"
      ],
      "execution_count": 11,
      "outputs": [
        {
          "metadata": {
            "tags": null
          },
          "name": "stdout",
          "output_type": "stream",
          "text": [
            "a : [[-0.6873394  -0.82099473  1.6523609  -0.57529306]\n",
            " [ 1.0989678   0.92594606 -0.9934138  -0.8582211 ]\n",
            " [ 0.07488676  0.5293555   0.12095155 -0.22442362]\n",
            " [-1.5566785   0.05594088  0.16147153 -2.1346416 ]]\n",
            "a_gpu : [[-1.3746789  -1.6419895   3.3047218  -1.1505861 ]\n",
            " [ 2.1979356   1.8518921  -1.9868276  -1.7164422 ]\n",
            " [ 0.14977352  1.058711    0.2419031  -0.44884723]\n",
            " [-3.113357    0.11188176  0.32294306 -4.2692833 ]]\n"
          ]
        }
      ]
    },
    {
      "cell_type": "markdown",
      "metadata": {
        "id": "loEHbBbLwxwg"
      },
      "source": [
        "## Exercices de mises en bouche\n",
        "\n",
        "En vous inspirant du programme commenté ci-dessus, écrivez un code avec un noyau Cuda qui fait la somme de deux vecteurs de réels simples précisions et qui range le résultat dans un troisième vecteur. \n",
        "\n",
        "On s'exercera à utiliser des vecteurs de \"grandes\" dimensions (> 256) afin de s'entrainer à calculer des indices globaux dans le noyau cuda à l'aide de *threadIdx.x*, *blockIdx.x* et *dimBlock.x*.\n",
        "\n",
        "Ecrivez (ou copier coller) votre code dans la cellule ci-dessous"
      ]
    },
    {
      "cell_type": "code",
      "metadata": {
        "id": "MdP6BpWQyDyx"
      },
      "source": [
        "n = 300\n",
        "vec1 = numpy.random.randn(n) # Sous forme de vecteur 4\n",
        "vec1 = vec1.astype(numpy.float32)\n",
        "vec1_gpu = cuda.mem_alloc(vec1.nbytes)\n",
        "cuda.memcpy_htod(vec1_gpu, vec1)\n",
        "\n",
        "vec2 = numpy.random.randn(n) # Sous forme de vecteur 4\n",
        "vec2 = vec2.astype(numpy.float32)\n",
        "vec2_gpu = cuda.mem_alloc(vec2.nbytes)\n",
        "cuda.memcpy_htod(vec2_gpu, vec2)\n"
      ],
      "execution_count": 12,
      "outputs": []
    },
    {
      "cell_type": "code",
      "source": [
        "mod = SourceModule(\"\"\"\n",
        "__global__ void sum( int dim_x, float *vec1, float *vec2 )\n",
        "{\n",
        "  if ((threadIdx.x < dim_x))\n",
        "  {\n",
        "    int idx = threadIdx.x;\n",
        "    vec1[idx] = vec1[idx] + vec2[idx];\n",
        "  }\n",
        "}\n",
        "\"\"\")"
      ],
      "metadata": {
        "id": "ZlsLkrViQ5cO"
      },
      "execution_count": 13,
      "outputs": []
    },
    {
      "cell_type": "code",
      "source": [
        "func = mod.get_function(\"sum\")\n",
        "dim = numpy.int32(n)\n",
        "func(dim, vec1_gpu, vec2_gpu, block=(4,1,1))"
      ],
      "metadata": {
        "id": "3GmhQb6KRZ2U"
      },
      "execution_count": 14,
      "outputs": []
    },
    {
      "cell_type": "code",
      "source": [
        "vec1_doubled = numpy.empty_like(vec1)\n",
        "cuda.memcpy_dtoh(vec1_doubled, vec1_gpu)"
      ],
      "metadata": {
        "id": "fGG5UFzSS7Og",
        "colab": {
          "base_uri": "https://localhost:8080/"
        },
        "outputId": "627b02ee-3fab-4a93-d68d-8896eb5a0b06"
      },
      "execution_count": 15,
      "outputs": [
        {
          "metadata": {
            "tags": null
          },
          "name": "stderr",
          "output_type": "stream",
          "text": [
            "/usr/local/lib/python3.8/dist-packages/google/colab/_variable_inspector.py:27: UserWarning: module in out-of-thread context could not be cleaned up\n",
            "  globals().clear()\n"
          ]
        }
      ]
    },
    {
      "cell_type": "code",
      "source": [
        "print(f\"vect1 : {vec1}\")\n",
        "print(f\"vec1_gpu : {vec1_doubled}\")"
      ],
      "metadata": {
        "id": "Uk1fi1V3S_Tl",
        "outputId": "82142aa3-1ae9-4774-fc2e-5ce275f6d9a4",
        "colab": {
          "base_uri": "https://localhost:8080/"
        }
      },
      "execution_count": 16,
      "outputs": [
        {
          "metadata": {
            "tags": null
          },
          "name": "stdout",
          "output_type": "stream",
          "text": [
            "vect1 : [ 1.09670043e-01  4.43012148e-01  3.96266222e-01  2.49797404e-01\n",
            "  1.29849732e+00 -1.28043365e+00 -9.75465834e-01 -2.69086629e-01\n",
            " -1.10573840e+00 -1.27992705e-01 -6.17827356e-01 -9.89126265e-01\n",
            " -2.85989237e+00 -7.94347525e-01 -3.05796951e-01  1.70063758e+00\n",
            " -6.35444164e-01  4.57386579e-03  1.13330400e+00  1.41641274e-01\n",
            "  2.09171796e+00 -1.26955926e+00 -7.22823381e-01 -1.93888936e-02\n",
            " -1.82823569e-01 -1.11906576e+00 -6.98275089e-01  2.10708451e+00\n",
            " -2.55559874e-03  4.09010053e-01  2.83636749e-01 -1.94985449e+00\n",
            "  3.86030883e-01  2.30641112e-01 -1.18697083e+00 -6.66551590e-01\n",
            "  1.79776692e+00  6.63798332e-01  1.12381160e+00 -1.13430619e+00\n",
            "  1.18444979e+00  7.01262355e-01  4.55496371e-01 -8.14868957e-02\n",
            " -1.09586859e+00  4.40716892e-01  1.64270854e+00  4.47959393e-01\n",
            " -7.86716700e-01 -1.73142985e-01  2.31948209e+00 -3.28604549e-01\n",
            " -2.38856971e-01 -2.16715157e-01  9.87426937e-01  1.80691957e+00\n",
            " -5.64313769e-01  5.43536484e-01  5.42878568e-01  2.07137957e-01\n",
            " -2.31273577e-01  2.82519221e-01 -1.04687393e+00 -8.37345600e-01\n",
            "  1.64486375e-02 -1.15448582e+00  1.40001130e+00 -2.47811452e-01\n",
            " -2.66056967e+00  1.72355287e-02 -1.16518103e-01  1.12143922e+00\n",
            " -3.52116674e-01 -1.05271876e+00 -1.90594506e+00 -3.46878320e-01\n",
            "  2.97232985e-01 -1.99264467e+00  1.19001198e+00 -1.00336874e+00\n",
            "  1.30519259e+00 -8.24383020e-01  1.12074360e-01 -4.49365050e-01\n",
            "  1.66976690e+00 -1.49296060e-01  2.32483673e+00 -8.15860927e-01\n",
            " -8.16290438e-01 -3.95959198e-01 -9.75319922e-01 -1.91639078e+00\n",
            " -6.94214880e-01 -9.84667361e-01  2.36604407e-01 -1.98037946e+00\n",
            "  3.62339318e-01  1.78935945e+00 -4.20891553e-01  1.47533342e-01\n",
            "  1.87976621e-02  2.99311191e-01 -7.48809636e-01 -5.04536092e-01\n",
            " -1.74257457e+00  2.65632343e+00  8.79652977e-01  9.26719427e-01\n",
            " -1.33610487e+00  7.53154874e-01 -2.08718681e+00 -1.42464280e+00\n",
            "  1.60286322e-01 -2.63627005e+00  8.34327996e-01  5.77145219e-01\n",
            "  3.86835426e-01  1.34015930e+00 -1.85019150e-01  1.39708269e+00\n",
            "  2.04227662e+00  7.46838227e-02  5.94050102e-02 -1.36758697e+00\n",
            "  4.77341861e-01  1.01800874e-01 -9.69467998e-01 -3.65323782e-01\n",
            " -5.94835162e-01 -1.11528985e-01 -8.75125602e-02  1.45116413e+00\n",
            " -8.88898373e-01 -3.28482985e-01 -1.56687438e+00 -3.41142684e-01\n",
            "  1.05525005e+00  6.35810733e-01 -1.22442968e-01  8.81542087e-01\n",
            "  8.67389739e-01 -1.03776348e+00 -9.72690731e-02 -5.88500202e-01\n",
            " -9.72128153e-01  1.35253978e+00 -1.97678506e+00 -1.77652276e+00\n",
            " -1.04903363e-01 -1.54612781e-02  3.13963830e-01  2.09918201e-01\n",
            " -2.54845560e-01  4.11875665e-01  8.63946736e-01 -1.15010357e+00\n",
            "  7.77690649e-01  5.93353689e-01 -1.11455142e+00 -1.18508577e+00\n",
            " -1.22804677e+00  2.43137777e-01  1.29509389e+00 -7.59836912e-01\n",
            " -6.50318682e-01  5.38892806e-01  1.09270859e+00  4.68781590e-01\n",
            "  1.23322380e+00  5.82662970e-02 -1.76489964e-01  2.32654691e-01\n",
            " -8.16910923e-01 -3.85530800e-01 -1.60874057e+00 -3.53309512e-01\n",
            " -1.46517897e+00 -7.83517122e-01 -7.12490320e-01 -8.36239159e-01\n",
            "  2.28608966e+00 -8.70469868e-01 -2.32640907e-01  7.61725605e-01\n",
            " -1.86729205e+00 -1.70981348e-01 -6.15948021e-01  3.91764462e-01\n",
            "  1.07398093e+00 -5.86181879e-01  5.19846439e-01 -1.16526473e+00\n",
            " -3.14184457e-01 -1.37763202e-01  7.08597004e-01  2.69134521e-01\n",
            "  6.03515744e-01  2.72386461e-01 -1.49019456e+00 -9.93807495e-01\n",
            "  1.49632728e+00 -7.49562979e-01  1.06364720e-01  4.11692232e-01\n",
            "  9.63461936e-01 -4.86776382e-01  1.54349172e+00 -1.24339378e+00\n",
            " -1.00579238e+00 -1.39356673e+00 -1.75377524e+00  1.16468334e+00\n",
            " -1.33938670e+00 -1.41581750e+00  1.67613387e+00  5.65474510e-01\n",
            "  4.16288137e-01 -4.37267244e-01  6.74874961e-01  4.39209431e-01\n",
            "  1.10179357e-01 -2.38263547e-01  7.31328666e-01  1.30295185e-02\n",
            " -4.14828099e-02  4.58741933e-01 -1.22063458e+00 -1.00838609e-01\n",
            " -4.33205366e-01  8.57589662e-01  4.32797849e-01 -1.98601753e-01\n",
            "  3.29440773e-01  1.04369688e+00 -1.69457525e-01  6.30618334e-02\n",
            " -1.01281619e+00 -4.86813664e-01 -7.28754401e-01 -8.85211468e-01\n",
            "  6.89277768e-01  7.65570998e-01 -1.34779203e+00  9.68935966e-01\n",
            " -1.40445495e+00  1.96423620e-01  5.76154590e-01 -6.28140032e-01\n",
            " -4.03394341e-01 -8.88038874e-01 -8.71368408e-01  1.70987934e-01\n",
            " -3.40990305e-01  8.70605111e-02 -9.20490205e-01 -9.44716632e-02\n",
            " -7.85346746e-01  5.51312882e-03  5.82790613e-01 -1.31553602e+00\n",
            " -1.22826862e+00 -4.83600706e-01 -1.00057125e+00  7.21764028e-01\n",
            "  5.12943983e-01  2.99893588e-01 -4.89303201e-01 -3.78224283e-01\n",
            "  1.11191748e-02 -1.08717036e+00 -3.49719584e-01 -2.45415211e-01\n",
            "  1.40691543e+00 -1.81594223e-01 -7.10510731e-01  3.94262001e-02\n",
            " -9.12214518e-01  1.21688917e-01 -3.12582701e-01 -1.96314603e-01\n",
            "  2.66436130e-01 -1.72353625e+00  2.05805883e-01  6.05680585e-01\n",
            " -2.11199594e+00 -6.31802857e-01 -2.86571324e-01 -4.28170919e-01\n",
            "  3.92341137e-01 -6.15102053e-01 -4.32184666e-01  3.19177657e-02\n",
            " -2.70948029e+00  1.02208769e+00 -3.20172369e-01 -5.98076820e-01\n",
            "  1.49718404e-01 -2.88687274e-02  1.50221527e+00 -6.23581707e-01]\n",
            "vec1_gpu : [ 9.58715022e-01  7.09688008e-01  1.69241226e+00  2.33124539e-01\n",
            "  1.29849732e+00 -1.28043365e+00 -9.75465834e-01 -2.69086629e-01\n",
            " -1.10573840e+00 -1.27992705e-01 -6.17827356e-01 -9.89126265e-01\n",
            " -2.85989237e+00 -7.94347525e-01 -3.05796951e-01  1.70063758e+00\n",
            " -6.35444164e-01  4.57386579e-03  1.13330400e+00  1.41641274e-01\n",
            "  2.09171796e+00 -1.26955926e+00 -7.22823381e-01 -1.93888936e-02\n",
            " -1.82823569e-01 -1.11906576e+00 -6.98275089e-01  2.10708451e+00\n",
            " -2.55559874e-03  4.09010053e-01  2.83636749e-01 -1.94985449e+00\n",
            "  3.86030883e-01  2.30641112e-01 -1.18697083e+00 -6.66551590e-01\n",
            "  1.79776692e+00  6.63798332e-01  1.12381160e+00 -1.13430619e+00\n",
            "  1.18444979e+00  7.01262355e-01  4.55496371e-01 -8.14868957e-02\n",
            " -1.09586859e+00  4.40716892e-01  1.64270854e+00  4.47959393e-01\n",
            " -7.86716700e-01 -1.73142985e-01  2.31948209e+00 -3.28604549e-01\n",
            " -2.38856971e-01 -2.16715157e-01  9.87426937e-01  1.80691957e+00\n",
            " -5.64313769e-01  5.43536484e-01  5.42878568e-01  2.07137957e-01\n",
            " -2.31273577e-01  2.82519221e-01 -1.04687393e+00 -8.37345600e-01\n",
            "  1.64486375e-02 -1.15448582e+00  1.40001130e+00 -2.47811452e-01\n",
            " -2.66056967e+00  1.72355287e-02 -1.16518103e-01  1.12143922e+00\n",
            " -3.52116674e-01 -1.05271876e+00 -1.90594506e+00 -3.46878320e-01\n",
            "  2.97232985e-01 -1.99264467e+00  1.19001198e+00 -1.00336874e+00\n",
            "  1.30519259e+00 -8.24383020e-01  1.12074360e-01 -4.49365050e-01\n",
            "  1.66976690e+00 -1.49296060e-01  2.32483673e+00 -8.15860927e-01\n",
            " -8.16290438e-01 -3.95959198e-01 -9.75319922e-01 -1.91639078e+00\n",
            " -6.94214880e-01 -9.84667361e-01  2.36604407e-01 -1.98037946e+00\n",
            "  3.62339318e-01  1.78935945e+00 -4.20891553e-01  1.47533342e-01\n",
            "  1.87976621e-02  2.99311191e-01 -7.48809636e-01 -5.04536092e-01\n",
            " -1.74257457e+00  2.65632343e+00  8.79652977e-01  9.26719427e-01\n",
            " -1.33610487e+00  7.53154874e-01 -2.08718681e+00 -1.42464280e+00\n",
            "  1.60286322e-01 -2.63627005e+00  8.34327996e-01  5.77145219e-01\n",
            "  3.86835426e-01  1.34015930e+00 -1.85019150e-01  1.39708269e+00\n",
            "  2.04227662e+00  7.46838227e-02  5.94050102e-02 -1.36758697e+00\n",
            "  4.77341861e-01  1.01800874e-01 -9.69467998e-01 -3.65323782e-01\n",
            " -5.94835162e-01 -1.11528985e-01 -8.75125602e-02  1.45116413e+00\n",
            " -8.88898373e-01 -3.28482985e-01 -1.56687438e+00 -3.41142684e-01\n",
            "  1.05525005e+00  6.35810733e-01 -1.22442968e-01  8.81542087e-01\n",
            "  8.67389739e-01 -1.03776348e+00 -9.72690731e-02 -5.88500202e-01\n",
            " -9.72128153e-01  1.35253978e+00 -1.97678506e+00 -1.77652276e+00\n",
            " -1.04903363e-01 -1.54612781e-02  3.13963830e-01  2.09918201e-01\n",
            " -2.54845560e-01  4.11875665e-01  8.63946736e-01 -1.15010357e+00\n",
            "  7.77690649e-01  5.93353689e-01 -1.11455142e+00 -1.18508577e+00\n",
            " -1.22804677e+00  2.43137777e-01  1.29509389e+00 -7.59836912e-01\n",
            " -6.50318682e-01  5.38892806e-01  1.09270859e+00  4.68781590e-01\n",
            "  1.23322380e+00  5.82662970e-02 -1.76489964e-01  2.32654691e-01\n",
            " -8.16910923e-01 -3.85530800e-01 -1.60874057e+00 -3.53309512e-01\n",
            " -1.46517897e+00 -7.83517122e-01 -7.12490320e-01 -8.36239159e-01\n",
            "  2.28608966e+00 -8.70469868e-01 -2.32640907e-01  7.61725605e-01\n",
            " -1.86729205e+00 -1.70981348e-01 -6.15948021e-01  3.91764462e-01\n",
            "  1.07398093e+00 -5.86181879e-01  5.19846439e-01 -1.16526473e+00\n",
            " -3.14184457e-01 -1.37763202e-01  7.08597004e-01  2.69134521e-01\n",
            "  6.03515744e-01  2.72386461e-01 -1.49019456e+00 -9.93807495e-01\n",
            "  1.49632728e+00 -7.49562979e-01  1.06364720e-01  4.11692232e-01\n",
            "  9.63461936e-01 -4.86776382e-01  1.54349172e+00 -1.24339378e+00\n",
            " -1.00579238e+00 -1.39356673e+00 -1.75377524e+00  1.16468334e+00\n",
            " -1.33938670e+00 -1.41581750e+00  1.67613387e+00  5.65474510e-01\n",
            "  4.16288137e-01 -4.37267244e-01  6.74874961e-01  4.39209431e-01\n",
            "  1.10179357e-01 -2.38263547e-01  7.31328666e-01  1.30295185e-02\n",
            " -4.14828099e-02  4.58741933e-01 -1.22063458e+00 -1.00838609e-01\n",
            " -4.33205366e-01  8.57589662e-01  4.32797849e-01 -1.98601753e-01\n",
            "  3.29440773e-01  1.04369688e+00 -1.69457525e-01  6.30618334e-02\n",
            " -1.01281619e+00 -4.86813664e-01 -7.28754401e-01 -8.85211468e-01\n",
            "  6.89277768e-01  7.65570998e-01 -1.34779203e+00  9.68935966e-01\n",
            " -1.40445495e+00  1.96423620e-01  5.76154590e-01 -6.28140032e-01\n",
            " -4.03394341e-01 -8.88038874e-01 -8.71368408e-01  1.70987934e-01\n",
            " -3.40990305e-01  8.70605111e-02 -9.20490205e-01 -9.44716632e-02\n",
            " -7.85346746e-01  5.51312882e-03  5.82790613e-01 -1.31553602e+00\n",
            " -1.22826862e+00 -4.83600706e-01 -1.00057125e+00  7.21764028e-01\n",
            "  5.12943983e-01  2.99893588e-01 -4.89303201e-01 -3.78224283e-01\n",
            "  1.11191748e-02 -1.08717036e+00 -3.49719584e-01 -2.45415211e-01\n",
            "  1.40691543e+00 -1.81594223e-01 -7.10510731e-01  3.94262001e-02\n",
            " -9.12214518e-01  1.21688917e-01 -3.12582701e-01 -1.96314603e-01\n",
            "  2.66436130e-01 -1.72353625e+00  2.05805883e-01  6.05680585e-01\n",
            " -2.11199594e+00 -6.31802857e-01 -2.86571324e-01 -4.28170919e-01\n",
            "  3.92341137e-01 -6.15102053e-01 -4.32184666e-01  3.19177657e-02\n",
            " -2.70948029e+00  1.02208769e+00 -3.20172369e-01 -5.98076820e-01\n",
            "  1.49718404e-01 -2.88687274e-02  1.50221527e+00 -6.23581707e-01]\n"
          ]
        }
      ]
    },
    {
      "cell_type": "markdown",
      "metadata": {
        "id": "esWwXhGMy8vJ"
      },
      "source": [
        "Une fois le code mis au point, recopiez le ci-dessous et adaptez le pour additionner deux matrices carrées dans une troisième."
      ]
    },
    {
      "cell_type": "code",
      "source": [
        "new_mod = SourceModule(\"\"\"\n",
        "__global__ void sum_mat(int dim_x,int dim_y, float **vec1, float **vec2, float **vec3)\n",
        "{\n",
        "  if ((threadIdx.x < dim_x) && (threadIdx.y < dim_y))\n",
        "  {\n",
        "    int idx = threadIdx.x;\n",
        "    int idy = threadIdx.y;\n",
        "    vec3[idx][idy] = vec1[idx][idy] + vec2[idx][idy];\n",
        "  }\n",
        "}\n",
        "\"\"\")"
      ],
      "metadata": {
        "id": "BzGNXsyESN63"
      },
      "execution_count": 17,
      "outputs": []
    },
    {
      "cell_type": "code",
      "source": [
        "mat1 = numpy.random.randn(n,n) # Sous forme de vecteur 4\n",
        "mat1 = mat1.astype(numpy.float32)\n",
        "mat1_gpu = cuda.mem_alloc(mat1.nbytes)\n",
        "cuda.memcpy_htod(mat1_gpu, mat1)\n",
        "\n",
        "mat2 = numpy.random.randn(n,n) # Sous forme de vecteur 4\n",
        "mat2 = mat2.astype(numpy.float32)\n",
        "mat2_gpu = cuda.mem_alloc(mat2.nbytes)\n",
        "cuda.memcpy_htod(mat2_gpu, mat2)\n"
      ],
      "metadata": {
        "id": "1pkM7BXdS-y-"
      },
      "execution_count": 18,
      "outputs": []
    },
    {
      "cell_type": "code",
      "source": [
        "mat3 = numpy.random.randn(n,n) # Sous forme de vecteur 4\n",
        "mat3 = mat3.astype(numpy.float32)\n",
        "mat3_gpu = cuda.mem_alloc(mat3.nbytes)\n",
        "cuda.memcpy_htod(mat3_gpu, mat3)\n",
        "\n",
        "func_mat_sum = new_mod.get_function(\"sum_mat\")\n",
        "dim = numpy.int32(4)\n",
        "func(dim, dim, mat1_gpu, mat2_gpu, mat3_gpu, block=(4,1,1))"
      ],
      "metadata": {
        "id": "LBQ5ng4OTeHO"
      },
      "execution_count": 19,
      "outputs": []
    },
    {
      "cell_type": "code",
      "source": [
        "cuda.memcpy_dtoh(mat3, mat3_gpu)\n",
        "print(f\"vec1_gpu : {mat1}\")\n",
        "print(f\"vec1_gpu : {mat2}\")\n",
        "print(f\"vec1_gpu : {mat3}\")"
      ],
      "metadata": {
        "colab": {
          "base_uri": "https://localhost:8080/"
        },
        "id": "LRbRhJktT4eG",
        "outputId": "2652bd9a-9e70-489e-9293-6486c15b9f8e"
      },
      "execution_count": 20,
      "outputs": [
        {
          "metadata": {
            "tags": null
          },
          "name": "stdout",
          "output_type": "stream",
          "text": [
            "vec1_gpu : [[-1.6318041  -0.43748724  1.5358901  ...  0.72045714 -0.78287977\n",
            "  -1.0631311 ]\n",
            " [-0.82010895 -0.59591895  0.73305225 ...  0.08176677 -0.7228375\n",
            "   0.7914526 ]\n",
            " [-0.41279322 -0.76022553 -1.1476926  ... -0.7564423  -1.1226166\n",
            "  -0.188138  ]\n",
            " ...\n",
            " [ 0.58627653 -0.3140901  -0.8232617  ...  0.5871866  -1.1038766\n",
            "   0.3518926 ]\n",
            " [-0.13144387  0.25668687 -0.20578636 ...  1.3556963   0.3782966\n",
            "   0.9252573 ]\n",
            " [-1.2687932  -0.915642    1.0990869  ... -0.13402025 -0.8900148\n",
            "  -0.46008185]]\n",
            "vec1_gpu : [[ 0.36297935  0.91218     0.63539904 ... -0.9504657  -0.1529945\n",
            "   1.5564573 ]\n",
            " [ 0.9306962  -0.01202123  0.76751    ...  0.67072654 -0.1729073\n",
            "  -0.57277375]\n",
            " [-0.5366881   0.8787357   0.5604448  ... -2.051202   -1.9522129\n",
            "  -0.4379339 ]\n",
            " ...\n",
            " [-1.3038667   0.6264965   0.8735167  ...  0.38807017 -0.299226\n",
            "   0.75357413]\n",
            " [ 0.928567    0.8567112   1.0437129  ... -1.0563341   0.20493966\n",
            "  -0.9141263 ]\n",
            " [ 0.7422784  -1.1625295   0.5264803  ...  1.1183426   1.1924585\n",
            "   0.31526554]]\n",
            "vec1_gpu : [[ 0.93048555  1.0243242   0.91434556 ... -1.0114341  -0.93103915\n",
            "  -0.6943763 ]\n",
            " [ 0.09808507  0.67031497 -0.78704953 ...  2.185055   -2.085524\n",
            "   1.389216  ]\n",
            " [-0.69030774  0.08285509  0.6733364  ...  0.96491617 -1.4678866\n",
            "  -0.6682045 ]\n",
            " ...\n",
            " [ 2.0735517  -1.0997638  -0.4399923  ... -0.42298642  0.9765039\n",
            "   2.0772712 ]\n",
            " [ 0.59592056 -0.566934    2.2205908  ... -0.14488111  0.5743172\n",
            "   0.45296505]\n",
            " [ 0.66525054 -0.58222526 -1.2210877  ...  0.5891093  -0.86500263\n",
            "   0.23078841]]\n"
          ]
        }
      ]
    },
    {
      "cell_type": "markdown",
      "metadata": {
        "id": "_67yypc0yL0g"
      },
      "source": [
        "# Exercice final\n",
        "\n",
        "Nous allons de nouveau nous intéresser à l'ensemble de Mandelbrot. La cellule ci-dessous contient un code permettant de calculer à l'aide de numpy un ensemble de mandelbrot (le code est simplifié par rapport aux codes sur CPU pour faciliter le TP même si il utilise la notation vectorielle de numpy (il faudra y faire attention pour code le noyau cuda !) : code repris de https://stackoverflow.com/questions/60467316/displaying-mandelbrot-set-in-python-using-matplotlib-pyplot-and-numpy).\n",
        "\n",
        "Transformez le de sorte que sur GPU, chaque thread calcule un pixel de l'image de destination."
      ]
    },
    {
      "cell_type": "code",
      "metadata": {
        "id": "YcAhzA4Gzb51",
        "colab": {
          "base_uri": "https://localhost:8080/",
          "height": 653
        },
        "outputId": "4f2dfa48-fa6e-4e34-84d8-fdbf22754a24"
      },
      "source": [
        "import pylab as plt\n",
        "import numpy as np\n",
        "# initial values \n",
        "loop = 100 # number of interations\n",
        "div = 100 # divisions\n",
        "# all possible values of c\n",
        "c = np.linspace(-2,2,div)[:,np.newaxis] + 1j*np.linspace(-1.5,1.5,div)[np.newaxis,:]\n",
        "# array of ones of same dimensions as c\n",
        "ones = np.ones(np.shape(c), np.int)\n",
        "# Array that will hold colors for plot, initial value set here will be\n",
        "# the color of the points in the mandelbrot set, i.e. where the series\n",
        "# converges.\n",
        "# For the code below to work, this initial value must at least be 'loop'.\n",
        "# Here it is loop + 5\n",
        "color = ones * loop + 5\n",
        "z = 0\n",
        "for n in range(0,loop):\n",
        "      z = z**2 + c\n",
        "      diverged = np.abs(z)>2\n",
        "      # Store value of n at which series was detected to diverge.\n",
        "      # The later the series is detected to diverge, the higher\n",
        "      # the 'color' value.\n",
        "      color[diverged] = np.minimum(color[diverged], ones[diverged]*n)\n",
        "\n",
        "plt.rcParams['figure.figsize'] = [12, 7.5]\n",
        "# contour plot with real and imaginary parts of c as axes\n",
        "# and colored according to 'color'\n",
        "plt.contourf(c.real, c.imag, color)\n",
        "plt.xlabel(\"Real($c$)\")\n",
        "plt.ylabel(\"Imag($c$)\")\n",
        "plt.xlim(-2,2)\n",
        "plt.ylim(-1.5,1.5)\n",
        "plt.savefig(\"plot.png\")\n",
        "plt.show()"
      ],
      "execution_count": 21,
      "outputs": [
        {
          "metadata": {
            "tags": null
          },
          "name": "stderr",
          "output_type": "stream",
          "text": [
            "<ipython-input-21-127f5f7520b6>:9: DeprecationWarning: `np.int` is a deprecated alias for the builtin `int`. To silence this warning, use `int` by itself. Doing this will not modify any behavior and is safe. When replacing `np.int`, you may wish to use e.g. `np.int64` or `np.int32` to specify the precision. If you wish to review your current use, check the release note link for additional information.\n",
            "Deprecated in NumPy 1.20; for more details and guidance: https://numpy.org/devdocs/release/1.20.0-notes.html#deprecations\n",
            "  ones = np.ones(np.shape(c), np.int)\n",
            "<ipython-input-21-127f5f7520b6>:18: RuntimeWarning: overflow encountered in square\n",
            "  z = z**2 + c\n",
            "<ipython-input-21-127f5f7520b6>:18: RuntimeWarning: invalid value encountered in square\n",
            "  z = z**2 + c\n",
            "<ipython-input-21-127f5f7520b6>:19: RuntimeWarning: overflow encountered in absolute\n",
            "  diverged = np.abs(z)>2\n"
          ]
        },
        {
          "data": {
            "image/png": "[encoded data removed]",
            "text/plain": [
              "<Figure size 864x540 with 1 Axes>"
            ]
          },
          "metadata": {},
          "output_type": "display_data"
        }
      ]
    },
    {
      "cell_type": "code",
      "source": [
        "from __future__ import print_function, division, absolute_import\n",
        "import numpy as np\n",
        "from matplotlib.pylab import imshow, show\n",
        "from numba import cuda"
      ],
      "metadata": {
        "id": "3aTZmDMWyopn"
      },
      "execution_count": 22,
      "outputs": []
    },
    {
      "cell_type": "code",
      "source": [
        "!apt-get install nvidia-cuda-toolkit\n",
        "!pip3 install numba"
      ],
      "metadata": {
        "id": "jed6pYYJ1evk",
        "outputId": "d337b4d7-8cdf-4c53-d0a9-a1161b1ec8a0",
        "colab": {
          "base_uri": "https://localhost:8080/"
        }
      },
      "execution_count": 27,
      "outputs": [
        {
          "output_type": "stream",
          "name": "stdout",
          "text": [
            "Reading package lists... Done\n",
            "Building dependency tree       \n",
            "Reading state information... Done\n",
            "The following package was automatically installed and is no longer required:\n",
            "  libnvidia-common-510\n",
            "Use 'apt autoremove' to remove it.\n",
            "The following additional packages will be installed:\n",
            "  cpp-8 fonts-dejavu-core fonts-dejavu-extra g++-8 gcc-8 gcc-8-base\n",
            "  javascript-common libaccinj64-10.1 libatk-wrapper-java\n",
            "  libatk-wrapper-java-jni libcublas10 libcublaslt10 libcudart10.1 libcufft10\n",
            "  libcufftw10 libcuinj64-10.1 libcupti-dev libcupti-doc libcupti10.1\n",
            "  libcurand10 libcusolver10 libcusolvermg10 libcusparse10 libgail-common\n",
            "  libgail18 libgcc-8-dev libgtk2.0-0 libgtk2.0-bin libgtk2.0-common\n",
            "  libjs-jquery libjs-underscore libmpx2 libncurses5 libnppc10 libnppial10\n",
            "  libnppicc10 libnppicom10 libnppidei10 libnppif10 libnppig10 libnppim10\n",
            "  libnppist10 libnppisu10 libnppitc10 libnpps10 libnvblas10 libnvgraph10\n",
            "  libnvidia-ml-dev libnvjpeg10 libnvrtc10.1 libnvtoolsext1 libnvvm3\n",
            "  libstdc++-8-dev libthrust-dev libvdpau-dev libxxf86dga1 node-html5shiv\n",
            "  nsight-compute nsight-systems nvidia-cuda-dev nvidia-cuda-doc\n",
            "  nvidia-cuda-gdb nvidia-profiler nvidia-visual-profiler openjdk-8-jre\n",
            "  openjdk-8-jre-headless x11-utils\n",
            "Suggested packages:\n",
            "  gcc-8-locales g++-8-multilib gcc-8-doc gcc-8-multilib apache2 | lighttpd\n",
            "  | httpd gvfs libstdc++-8-doc libvdpau-doc nodejs nvidia-driver\n",
            "  | nvidia-tesla-440-driver | nvidia-tesla-418-driver libnss-mdns\n",
            "  fonts-ipafont-gothic fonts-ipafont-mincho fonts-wqy-microhei\n",
            "  fonts-wqy-zenhei fonts-indic mesa-utils\n",
            "Recommended packages:\n",
            "  libnvcuvid1\n",
            "The following NEW packages will be installed:\n",
            "  cpp-8 fonts-dejavu-core fonts-dejavu-extra g++-8 gcc-8 gcc-8-base\n",
            "  javascript-common libaccinj64-10.1 libatk-wrapper-java\n",
            "  libatk-wrapper-java-jni libcublas10 libcublaslt10 libcudart10.1 libcufft10\n",
            "  libcufftw10 libcuinj64-10.1 libcupti-dev libcupti-doc libcupti10.1\n",
            "  libcurand10 libcusolver10 libcusolvermg10 libcusparse10 libgail-common\n",
            "  libgail18 libgcc-8-dev libgtk2.0-0 libgtk2.0-bin libgtk2.0-common\n",
            "  libjs-jquery libjs-underscore libmpx2 libncurses5 libnppc10 libnppial10\n",
            "  libnppicc10 libnppicom10 libnppidei10 libnppif10 libnppig10 libnppim10\n",
            "  libnppist10 libnppisu10 libnppitc10 libnpps10 libnvblas10 libnvgraph10\n",
            "  libnvidia-ml-dev libnvjpeg10 libnvrtc10.1 libnvtoolsext1 libnvvm3\n",
            "  libstdc++-8-dev libthrust-dev libvdpau-dev libxxf86dga1 node-html5shiv\n",
            "  nsight-compute nsight-systems nvidia-cuda-dev nvidia-cuda-doc\n",
            "  nvidia-cuda-gdb nvidia-cuda-toolkit nvidia-profiler nvidia-visual-profiler\n",
            "  openjdk-8-jre openjdk-8-jre-headless x11-utils\n",
            "0 upgraded, 68 newly installed, 0 to remove and 21 not upgraded.\n",
            "Need to get 1,434 MB of archives.\n",
            "After this operation, 3,837 MB of additional disk space will be used.\n",
            "Get:1 http://archive.ubuntu.com/ubuntu focal/universe amd64 gcc-8-base amd64 8.4.0-3ubuntu2 [18.7 kB]\n",
            "Get:2 http://archive.ubuntu.com/ubuntu focal/universe amd64 cpp-8 amd64 8.4.0-3ubuntu2 [8,945 kB]\n",
            "Get:3 http://archive.ubuntu.com/ubuntu focal/main amd64 fonts-dejavu-core all 2.37-1 [1,041 kB]\n",
            "Get:4 http://archive.ubuntu.com/ubuntu focal/main amd64 fonts-dejavu-extra all 2.37-1 [1,953 kB]\n",
            "Get:5 http://archive.ubuntu.com/ubuntu focal/universe amd64 libmpx2 amd64 8.4.0-3ubuntu2 [11.8 kB]\n",
            "Get:6 http://archive.ubuntu.com/ubuntu focal/universe amd64 libgcc-8-dev amd64 8.4.0-3ubuntu2 [2,313 kB]\n",
            "Get:7 http://archive.ubuntu.com/ubuntu focal/universe amd64 gcc-8 amd64 8.4.0-3ubuntu2 [9,833 kB]\n",
            "Get:8 http://archive.ubuntu.com/ubuntu focal/universe amd64 libstdc++-8-dev amd64 8.4.0-3ubuntu2 [1,537 kB]\n",
            "Get:9 http://archive.ubuntu.com/ubuntu focal/universe amd64 g++-8 amd64 8.4.0-3ubuntu2 [10.1 MB]\n",
            "Get:10 http://archive.ubuntu.com/ubuntu focal/main amd64 javascript-common all 11 [6,066 B]\n",
            "Get:11 http://archive.ubuntu.com/ubuntu focal/multiverse amd64 libaccinj64-10.1 amd64 10.1.243-3 [1,893 kB]\n",
            "Get:12 http://archive.ubuntu.com/ubuntu focal/main amd64 libxxf86dga1 amd64 2:1.1.5-0ubuntu1 [12.0 kB]\n",
            "Get:13 http://archive.ubuntu.com/ubuntu focal/main amd64 x11-utils amd64 7.7+5 [199 kB]\n",
            "Get:14 http://archive.ubuntu.com/ubuntu focal/main amd64 libatk-wrapper-java all 0.37.1-1 [53.0 kB]\n",
            "Get:15 http://archive.ubuntu.com/ubuntu focal/main amd64 libatk-wrapper-java-jni amd64 0.37.1-1 [45.1 kB]\n",
            "Get:16 http://archive.ubuntu.com/ubuntu focal/multiverse amd64 libcublaslt10 amd64 10.1.243-3 [9,249 kB]\n",
            "Get:17 http://archive.ubuntu.com/ubuntu focal/multiverse amd64 libcublas10 amd64 10.1.243-3 [29.7 MB]\n",
            "Get:18 http://archive.ubuntu.com/ubuntu focal/multiverse amd64 libcudart10.1 amd64 10.1.243-3 [125 kB]\n",
            "Get:19 http://archive.ubuntu.com/ubuntu focal/multiverse amd64 libcufft10 amd64 10.1.243-3 [85.3 MB]\n",
            "Get:20 http://archive.ubuntu.com/ubuntu focal/multiverse amd64 libcufftw10 amd64 10.1.243-3 [124 kB]\n",
            "Get:21 http://archive.ubuntu.com/ubuntu focal/multiverse amd64 libcuinj64-10.1 amd64 10.1.243-3 [2,030 kB]\n",
            "Get:22 http://archive.ubuntu.com/ubuntu focal/multiverse amd64 libcupti10.1 amd64 10.1.243-3 [4,311 kB]\n",
            "Get:23 http://archive.ubuntu.com/ubuntu focal/multiverse amd64 libcurand10 amd64 10.1.243-3 [39.0 MB]\n",
            "Get:24 http://archive.ubuntu.com/ubuntu focal/multiverse amd64 libcusolver10 amd64 10.1.243-3 [44.5 MB]\n",
            "Get:25 http://archive.ubuntu.com/ubuntu focal/multiverse amd64 libcusolvermg10 amd64 10.1.243-3 [28.1 MB]\n",
            "Get:26 http://archive.ubuntu.com/ubuntu focal/multiverse amd64 libcusparse10 amd64 10.1.243-3 [56.8 MB]\n",
            "Get:27 http://archive.ubuntu.com/ubuntu focal/main amd64 libgtk2.0-common all 2.24.32-4ubuntu4 [126 kB]\n",
            "Get:28 http://archive.ubuntu.com/ubuntu focal/main amd64 libgtk2.0-0 amd64 2.24.32-4ubuntu4 [1,791 kB]\n",
            "Get:29 http://archive.ubuntu.com/ubuntu focal/main amd64 libgail18 amd64 2.24.32-4ubuntu4 [14.7 kB]\n",
            "Get:30 http://archive.ubuntu.com/ubuntu focal/main amd64 libgail-common amd64 2.24.32-4ubuntu4 [116 kB]\n",
            "Get:31 http://archive.ubuntu.com/ubuntu focal/main amd64 libgtk2.0-bin amd64 2.24.32-4ubuntu4 [7,728 B]\n",
            "Get:32 http://archive.ubuntu.com/ubuntu focal/main amd64 libjs-jquery all 3.3.1~dfsg-3 [329 kB]\n",
            "Get:33 http://archive.ubuntu.com/ubuntu focal-updates/main amd64 libjs-underscore all 1.9.1~dfsg-1ubuntu0.20.04.1 [99.5 kB]\n",
            "Get:34 http://archive.ubuntu.com/ubuntu focal/universe amd64 libncurses5 amd64 6.2-0ubuntu2 [96.9 kB]\n",
            "Get:35 http://archive.ubuntu.com/ubuntu focal/multiverse amd64 libnppc10 amd64 10.1.243-3 [123 kB]\n",
            "Get:36 http://archive.ubuntu.com/ubuntu focal/multiverse amd64 libnppial10 amd64 10.1.243-3 [3,667 kB]\n",
            "Get:37 http://archive.ubuntu.com/ubuntu focal/multiverse amd64 libnppicc10 amd64 10.1.243-3 [1,621 kB]\n",
            "Get:38 http://archive.ubuntu.com/ubuntu focal/multiverse amd64 libnppicom10 amd64 10.1.243-3 [539 kB]\n",
            "Get:39 http://archive.ubuntu.com/ubuntu focal/multiverse amd64 libnppidei10 amd64 10.1.243-3 [2,001 kB]\n",
            "Get:40 http://archive.ubuntu.com/ubuntu focal/multiverse amd64 libnppif10 amd64 10.1.243-3 [22.0 MB]\n",
            "Get:41 http://archive.ubuntu.com/ubuntu focal/multiverse amd64 libnppig10 amd64 10.1.243-3 [12.0 MB]\n",
            "Get:42 http://archive.ubuntu.com/ubuntu focal/multiverse amd64 libnppim10 amd64 10.1.243-3 [2,694 kB]\n",
            "Get:43 http://archive.ubuntu.com/ubuntu focal/multiverse amd64 libnppist10 amd64 10.1.243-3 [7,313 kB]\n",
            "Get:44 http://archive.ubuntu.com/ubuntu focal/multiverse amd64 libnppisu10 amd64 10.1.243-3 [116 kB]\n",
            "Get:45 http://archive.ubuntu.com/ubuntu focal/multiverse amd64 libnppitc10 amd64 10.1.243-3 [802 kB]\n",
            "Get:46 http://archive.ubuntu.com/ubuntu focal/multiverse amd64 libnpps10 amd64 10.1.243-3 [2,970 kB]\n",
            "Get:47 http://archive.ubuntu.com/ubuntu focal/multiverse amd64 libnvblas10 amd64 10.1.243-3 [129 kB]\n",
            "Get:48 http://archive.ubuntu.com/ubuntu focal/multiverse amd64 libnvgraph10 amd64 10.1.243-3 [44.5 MB]\n",
            "Get:49 http://archive.ubuntu.com/ubuntu focal/multiverse amd64 libnvidia-ml-dev amd64 10.1.243-3 [58.1 kB]\n",
            "Get:50 http://archive.ubuntu.com/ubuntu focal/multiverse amd64 libnvjpeg10 amd64 10.1.243-3 [1,227 kB]\n",
            "Get:51 http://archive.ubuntu.com/ubuntu focal/multiverse amd64 libnvrtc10.1 amd64 10.1.243-3 [6,307 kB]\n",
            "Get:52 http://archive.ubuntu.com/ubuntu focal/main amd64 libvdpau-dev amd64 1.3-1ubuntu2 [37.3 kB]\n",
            "Get:53 http://archive.ubuntu.com/ubuntu focal/universe amd64 node-html5shiv all 3.7.3+dfsg-3 [12.9 kB]\n",
            "Get:54 http://archive.ubuntu.com/ubuntu focal/multiverse amd64 nsight-compute amd64 10.1.243-3 [196 MB]\n",
            "Get:55 http://archive.ubuntu.com/ubuntu focal/multiverse amd64 nsight-systems amd64 10.1.243-3 [71.4 MB]\n",
            "Get:56 http://archive.ubuntu.com/ubuntu focal-updates/universe amd64 openjdk-8-jre-headless amd64 8u352-ga-1~20.04 [28.2 MB]\n",
            "Get:57 http://archive.ubuntu.com/ubuntu focal-updates/universe amd64 openjdk-8-jre amd64 8u352-ga-1~20.04 [69.9 kB]\n",
            "Get:58 http://archive.ubuntu.com/ubuntu focal/multiverse amd64 libcupti-dev amd64 10.1.243-3 [4,779 kB]\n",
            "Get:59 http://archive.ubuntu.com/ubuntu focal/multiverse amd64 libcupti-doc all 10.1.243-3 [2,117 kB]\n",
            "Get:60 http://archive.ubuntu.com/ubuntu focal/multiverse amd64 libnvtoolsext1 amd64 10.1.243-3 [25.1 kB]\n",
            "Get:61 http://archive.ubuntu.com/ubuntu focal/multiverse amd64 libnvvm3 amd64 10.1.243-3 [4,436 kB]\n",
            "Get:62 http://archive.ubuntu.com/ubuntu focal/multiverse amd64 libthrust-dev all 1.9.5-1 [526 kB]\n",
            "Get:63 http://archive.ubuntu.com/ubuntu focal/multiverse amd64 nvidia-cuda-dev amd64 10.1.243-3 [420 MB]\n",
            "Get:64 http://archive.ubuntu.com/ubuntu focal/multiverse amd64 nvidia-cuda-doc all 10.1.243-3 [102 MB]\n",
            "Get:65 http://archive.ubuntu.com/ubuntu focal/multiverse amd64 nvidia-cuda-gdb amd64 10.1.243-3 [2,722 kB]\n",
            "Get:66 http://archive.ubuntu.com/ubuntu focal/multiverse amd64 nvidia-profiler amd64 10.1.243-3 [2,673 kB]\n",
            "Get:67 http://archive.ubuntu.com/ubuntu focal/multiverse amd64 nvidia-cuda-toolkit amd64 10.1.243-3 [35.0 MB]\n",
            "Get:68 http://archive.ubuntu.com/ubuntu focal/multiverse amd64 nvidia-visual-profiler amd64 10.1.243-3 [115 MB]\n",
            "Fetched 1,434 MB in 24s (61.0 MB/s)\n",
            "Extracting templates from packages: 100%\n",
            "Selecting previously unselected package gcc-8-base:amd64.\n",
            "(Reading database ... 128126 files and directories currently installed.)\n",
            "Preparing to unpack .../00-gcc-8-base_8.4.0-3ubuntu2_amd64.deb ...\n",
            "Unpacking gcc-8-base:amd64 (8.4.0-3ubuntu2) ...\n",
            "Selecting previously unselected package cpp-8.\n",
            "Preparing to unpack .../01-cpp-8_8.4.0-3ubuntu2_amd64.deb ...\n",
            "Unpacking cpp-8 (8.4.0-3ubuntu2) ...\n",
            "Selecting previously unselected package fonts-dejavu-core.\n",
            "Preparing to unpack .../02-fonts-dejavu-core_2.37-1_all.deb ...\n",
            "Unpacking fonts-dejavu-core (2.37-1) ...\n",
            "Selecting previously unselected package fonts-dejavu-extra.\n",
            "Preparing to unpack .../03-fonts-dejavu-extra_2.37-1_all.deb ...\n",
            "Unpacking fonts-dejavu-extra (2.37-1) ...\n",
            "Selecting previously unselected package libmpx2:amd64.\n",
            "Preparing to unpack .../04-libmpx2_8.4.0-3ubuntu2_amd64.deb ...\n",
            "Unpacking libmpx2:amd64 (8.4.0-3ubuntu2) ...\n",
            "Selecting previously unselected package libgcc-8-dev:amd64.\n",
            "Preparing to unpack .../05-libgcc-8-dev_8.4.0-3ubuntu2_amd64.deb ...\n",
            "Unpacking libgcc-8-dev:amd64 (8.4.0-3ubuntu2) ...\n",
            "Selecting previously unselected package gcc-8.\n",
            "Preparing to unpack .../06-gcc-8_8.4.0-3ubuntu2_amd64.deb ...\n",
            "Unpacking gcc-8 (8.4.0-3ubuntu2) ...\n",
            "Selecting previously unselected package libstdc++-8-dev:amd64.\n",
            "Preparing to unpack .../07-libstdc++-8-dev_8.4.0-3ubuntu2_amd64.deb ...\n",
            "Unpacking libstdc++-8-dev:amd64 (8.4.0-3ubuntu2) ...\n",
            "Selecting previously unselected package g++-8.\n",
            "Preparing to unpack .../08-g++-8_8.4.0-3ubuntu2_amd64.deb ...\n",
            "Unpacking g++-8 (8.4.0-3ubuntu2) ...\n",
            "Selecting previously unselected package javascript-common.\n",
            "Preparing to unpack .../09-javascript-common_11_all.deb ...\n",
            "Unpacking javascript-common (11) ...\n",
            "Selecting previously unselected package libaccinj64-10.1:amd64.\n",
            "Preparing to unpack .../10-libaccinj64-10.1_10.1.243-3_amd64.deb ...\n",
            "Unpacking libaccinj64-10.1:amd64 (10.1.243-3) ...\n",
            "Selecting previously unselected package libxxf86dga1:amd64.\n",
            "Preparing to unpack .../11-libxxf86dga1_2%3a1.1.5-0ubuntu1_amd64.deb ...\n",
            "Unpacking libxxf86dga1:amd64 (2:1.1.5-0ubuntu1) ...\n",
            "Selecting previously unselected package x11-utils.\n",
            "Preparing to unpack .../12-x11-utils_7.7+5_amd64.deb ...\n",
            "Unpacking x11-utils (7.7+5) ...\n",
            "Selecting previously unselected package libatk-wrapper-java.\n",
            "Preparing to unpack .../13-libatk-wrapper-java_0.37.1-1_all.deb ...\n",
            "Unpacking libatk-wrapper-java (0.37.1-1) ...\n",
            "Selecting previously unselected package libatk-wrapper-java-jni:amd64.\n",
            "Preparing to unpack .../14-libatk-wrapper-java-jni_0.37.1-1_amd64.deb ...\n",
            "Unpacking libatk-wrapper-java-jni:amd64 (0.37.1-1) ...\n",
            "Selecting previously unselected package libcublaslt10:amd64.\n",
            "Preparing to unpack .../15-libcublaslt10_10.1.243-3_amd64.deb ...\n",
            "Unpacking libcublaslt10:amd64 (10.1.243-3) ...\n",
            "Selecting previously unselected package libcublas10:amd64.\n",
            "Preparing to unpack .../16-libcublas10_10.1.243-3_amd64.deb ...\n",
            "Unpacking libcublas10:amd64 (10.1.243-3) ...\n",
            "Selecting previously unselected package libcudart10.1:amd64.\n",
            "Preparing to unpack .../17-libcudart10.1_10.1.243-3_amd64.deb ...\n",
            "Unpacking libcudart10.1:amd64 (10.1.243-3) ...\n",
            "Selecting previously unselected package libcufft10:amd64.\n",
            "Preparing to unpack .../18-libcufft10_10.1.243-3_amd64.deb ...\n",
            "Unpacking libcufft10:amd64 (10.1.243-3) ...\n",
            "Selecting previously unselected package libcufftw10:amd64.\n",
            "Preparing to unpack .../19-libcufftw10_10.1.243-3_amd64.deb ...\n",
            "Unpacking libcufftw10:amd64 (10.1.243-3) ...\n",
            "Selecting previously unselected package libcuinj64-10.1:amd64.\n",
            "Preparing to unpack .../20-libcuinj64-10.1_10.1.243-3_amd64.deb ...\n",
            "Unpacking libcuinj64-10.1:amd64 (10.1.243-3) ...\n",
            "Selecting previously unselected package libcupti10.1:amd64.\n",
            "Preparing to unpack .../21-libcupti10.1_10.1.243-3_amd64.deb ...\n",
            "Unpacking libcupti10.1:amd64 (10.1.243-3) ...\n",
            "Selecting previously unselected package libcurand10:amd64.\n",
            "Preparing to unpack .../22-libcurand10_10.1.243-3_amd64.deb ...\n",
            "Unpacking libcurand10:amd64 (10.1.243-3) ...\n",
            "Selecting previously unselected package libcusolver10:amd64.\n",
            "Preparing to unpack .../23-libcusolver10_10.1.243-3_amd64.deb ...\n",
            "Unpacking libcusolver10:amd64 (10.1.243-3) ...\n",
            "Selecting previously unselected package libcusolvermg10:amd64.\n",
            "Preparing to unpack .../24-libcusolvermg10_10.1.243-3_amd64.deb ...\n",
            "Unpacking libcusolvermg10:amd64 (10.1.243-3) ...\n",
            "Selecting previously unselected package libcusparse10:amd64.\n",
            "Preparing to unpack .../25-libcusparse10_10.1.243-3_amd64.deb ...\n",
            "Unpacking libcusparse10:amd64 (10.1.243-3) ...\n",
            "Selecting previously unselected package libgtk2.0-common.\n",
            "Preparing to unpack .../26-libgtk2.0-common_2.24.32-4ubuntu4_all.deb ...\n",
            "Unpacking libgtk2.0-common (2.24.32-4ubuntu4) ...\n",
            "Selecting previously unselected package libgtk2.0-0:amd64.\n",
            "Preparing to unpack .../27-libgtk2.0-0_2.24.32-4ubuntu4_amd64.deb ...\n",
            "Unpacking libgtk2.0-0:amd64 (2.24.32-4ubuntu4) ...\n",
            "Selecting previously unselected package libgail18:amd64.\n",
            "Preparing to unpack .../28-libgail18_2.24.32-4ubuntu4_amd64.deb ...\n",
            "Unpacking libgail18:amd64 (2.24.32-4ubuntu4) ...\n",
            "Selecting previously unselected package libgail-common:amd64.\n",
            "Preparing to unpack .../29-libgail-common_2.24.32-4ubuntu4_amd64.deb ...\n",
            "Unpacking libgail-common:amd64 (2.24.32-4ubuntu4) ...\n",
            "Selecting previously unselected package libgtk2.0-bin.\n",
            "Preparing to unpack .../30-libgtk2.0-bin_2.24.32-4ubuntu4_amd64.deb ...\n",
            "Unpacking libgtk2.0-bin (2.24.32-4ubuntu4) ...\n",
            "Selecting previously unselected package libjs-jquery.\n",
            "Preparing to unpack .../31-libjs-jquery_3.3.1~dfsg-3_all.deb ...\n",
            "Unpacking libjs-jquery (3.3.1~dfsg-3) ...\n",
            "Selecting previously unselected package libjs-underscore.\n",
            "Preparing to unpack .../32-libjs-underscore_1.9.1~dfsg-1ubuntu0.20.04.1_all.deb ...\n",
            "Unpacking libjs-underscore (1.9.1~dfsg-1ubuntu0.20.04.1) ...\n",
            "Selecting previously unselected package libncurses5:amd64.\n",
            "Preparing to unpack .../33-libncurses5_6.2-0ubuntu2_amd64.deb ...\n",
            "Unpacking libncurses5:amd64 (6.2-0ubuntu2) ...\n",
            "Selecting previously unselected package libnppc10:amd64.\n",
            "Preparing to unpack .../34-libnppc10_10.1.243-3_amd64.deb ...\n",
            "Unpacking libnppc10:amd64 (10.1.243-3) ...\n",
            "Selecting previously unselected package libnppial10:amd64.\n",
            "Preparing to unpack .../35-libnppial10_10.1.243-3_amd64.deb ...\n",
            "Unpacking libnppial10:amd64 (10.1.243-3) ...\n",
            "Selecting previously unselected package libnppicc10:amd64.\n",
            "Preparing to unpack .../36-libnppicc10_10.1.243-3_amd64.deb ...\n",
            "Unpacking libnppicc10:amd64 (10.1.243-3) ...\n",
            "Selecting previously unselected package libnppicom10:amd64.\n",
            "Preparing to unpack .../37-libnppicom10_10.1.243-3_amd64.deb ...\n",
            "Unpacking libnppicom10:amd64 (10.1.243-3) ...\n",
            "Selecting previously unselected package libnppidei10:amd64.\n",
            "Preparing to unpack .../38-libnppidei10_10.1.243-3_amd64.deb ...\n",
            "Unpacking libnppidei10:amd64 (10.1.243-3) ...\n",
            "Selecting previously unselected package libnppif10:amd64.\n",
            "Preparing to unpack .../39-libnppif10_10.1.243-3_amd64.deb ...\n",
            "Unpacking libnppif10:amd64 (10.1.243-3) ...\n",
            "Selecting previously unselected package libnppig10:amd64.\n",
            "Preparing to unpack .../40-libnppig10_10.1.243-3_amd64.deb ...\n",
            "Unpacking libnppig10:amd64 (10.1.243-3) ...\n",
            "Selecting previously unselected package libnppim10:amd64.\n",
            "Preparing to unpack .../41-libnppim10_10.1.243-3_amd64.deb ...\n",
            "Unpacking libnppim10:amd64 (10.1.243-3) ...\n",
            "Selecting previously unselected package libnppist10:amd64.\n",
            "Preparing to unpack .../42-libnppist10_10.1.243-3_amd64.deb ...\n",
            "Unpacking libnppist10:amd64 (10.1.243-3) ...\n",
            "Selecting previously unselected package libnppisu10:amd64.\n",
            "Preparing to unpack .../43-libnppisu10_10.1.243-3_amd64.deb ...\n",
            "Unpacking libnppisu10:amd64 (10.1.243-3) ...\n",
            "Selecting previously unselected package libnppitc10:amd64.\n",
            "Preparing to unpack .../44-libnppitc10_10.1.243-3_amd64.deb ...\n",
            "Unpacking libnppitc10:amd64 (10.1.243-3) ...\n",
            "Selecting previously unselected package libnpps10:amd64.\n",
            "Preparing to unpack .../45-libnpps10_10.1.243-3_amd64.deb ...\n",
            "Unpacking libnpps10:amd64 (10.1.243-3) ...\n",
            "Selecting previously unselected package libnvblas10:amd64.\n",
            "Preparing to unpack .../46-libnvblas10_10.1.243-3_amd64.deb ...\n",
            "Unpacking libnvblas10:amd64 (10.1.243-3) ...\n",
            "Selecting previously unselected package libnvgraph10:amd64.\n",
            "Preparing to unpack .../47-libnvgraph10_10.1.243-3_amd64.deb ...\n",
            "Unpacking libnvgraph10:amd64 (10.1.243-3) ...\n",
            "Selecting previously unselected package libnvidia-ml-dev.\n",
            "Preparing to unpack .../48-libnvidia-ml-dev_10.1.243-3_amd64.deb ...\n",
            "Unpacking libnvidia-ml-dev (10.1.243-3) ...\n",
            "Selecting previously unselected package libnvjpeg10:amd64.\n",
            "Preparing to unpack .../49-libnvjpeg10_10.1.243-3_amd64.deb ...\n",
            "Unpacking libnvjpeg10:amd64 (10.1.243-3) ...\n",
            "Selecting previously unselected package libnvrtc10.1:amd64.\n",
            "Preparing to unpack .../50-libnvrtc10.1_10.1.243-3_amd64.deb ...\n",
            "Unpacking libnvrtc10.1:amd64 (10.1.243-3) ...\n",
            "Selecting previously unselected package libvdpau-dev:amd64.\n",
            "Preparing to unpack .../51-libvdpau-dev_1.3-1ubuntu2_amd64.deb ...\n",
            "Unpacking libvdpau-dev:amd64 (1.3-1ubuntu2) ...\n",
            "Selecting previously unselected package node-html5shiv.\n",
            "Preparing to unpack .../52-node-html5shiv_3.7.3+dfsg-3_all.deb ...\n",
            "Unpacking node-html5shiv (3.7.3+dfsg-3) ...\n",
            "Selecting previously unselected package nsight-compute.\n",
            "Preparing to unpack .../53-nsight-compute_10.1.243-3_amd64.deb ...\n",
            "Unpacking nsight-compute (10.1.243-3) ...\n",
            "Selecting previously unselected package nsight-systems.\n",
            "Preparing to unpack .../54-nsight-systems_10.1.243-3_amd64.deb ...\n",
            "Unpacking nsight-systems (10.1.243-3) ...\n",
            "Selecting previously unselected package openjdk-8-jre-headless:amd64.\n",
            "Preparing to unpack .../55-openjdk-8-jre-headless_8u352-ga-1~20.04_amd64.deb ...\n",
            "Unpacking openjdk-8-jre-headless:amd64 (8u352-ga-1~20.04) ...\n",
            "Selecting previously unselected package openjdk-8-jre:amd64.\n",
            "Preparing to unpack .../56-openjdk-8-jre_8u352-ga-1~20.04_amd64.deb ...\n",
            "Unpacking openjdk-8-jre:amd64 (8u352-ga-1~20.04) ...\n",
            "Selecting previously unselected package libcupti-dev:amd64.\n",
            "Preparing to unpack .../57-libcupti-dev_10.1.243-3_amd64.deb ...\n",
            "Unpacking libcupti-dev:amd64 (10.1.243-3) ...\n",
            "Selecting previously unselected package libcupti-doc.\n",
            "Preparing to unpack .../58-libcupti-doc_10.1.243-3_all.deb ...\n",
            "Unpacking libcupti-doc (10.1.243-3) ...\n",
            "Selecting previously unselected package libnvtoolsext1:amd64.\n",
            "Preparing to unpack .../59-libnvtoolsext1_10.1.243-3_amd64.deb ...\n",
            "Unpacking libnvtoolsext1:amd64 (10.1.243-3) ...\n",
            "Selecting previously unselected package libnvvm3:amd64.\n",
            "Preparing to unpack .../60-libnvvm3_10.1.243-3_amd64.deb ...\n",
            "Unpacking libnvvm3:amd64 (10.1.243-3) ...\n",
            "Selecting previously unselected package libthrust-dev.\n",
            "Preparing to unpack .../61-libthrust-dev_1.9.5-1_all.deb ...\n",
            "Unpacking libthrust-dev (1.9.5-1) ...\n",
            "Selecting previously unselected package nvidia-cuda-dev.\n",
            "Preparing to unpack .../62-nvidia-cuda-dev_10.1.243-3_amd64.deb ...\n",
            "Unpacking nvidia-cuda-dev (10.1.243-3) ...\n",
            "Selecting previously unselected package nvidia-cuda-doc.\n",
            "Preparing to unpack .../63-nvidia-cuda-doc_10.1.243-3_all.deb ...\n",
            "Unpacking nvidia-cuda-doc (10.1.243-3) ...\n",
            "Selecting previously unselected package nvidia-cuda-gdb.\n",
            "Preparing to unpack .../64-nvidia-cuda-gdb_10.1.243-3_amd64.deb ...\n",
            "Unpacking nvidia-cuda-gdb (10.1.243-3) ...\n",
            "Selecting previously unselected package nvidia-profiler.\n",
            "Preparing to unpack .../65-nvidia-profiler_10.1.243-3_amd64.deb ...\n",
            "Unpacking nvidia-profiler (10.1.243-3) ...\n",
            "Selecting previously unselected package nvidia-cuda-toolkit.\n",
            "Preparing to unpack .../66-nvidia-cuda-toolkit_10.1.243-3_amd64.deb ...\n",
            "Unpacking nvidia-cuda-toolkit (10.1.243-3) ...\n",
            "Selecting previously unselected package nvidia-visual-profiler.\n",
            "Preparing to unpack .../67-nvidia-visual-profiler_10.1.243-3_amd64.deb ...\n",
            "Unpacking nvidia-visual-profiler (10.1.243-3) ...\n",
            "Setting up libaccinj64-10.1:amd64 (10.1.243-3) ...\n",
            "Setting up javascript-common (11) ...\n",
            "Setting up libcuinj64-10.1:amd64 (10.1.243-3) ...\n",
            "Setting up libthrust-dev (1.9.5-1) ...\n",
            "Setting up libnvidia-ml-dev (10.1.243-3) ...\n",
            "Setting up libnppc10:amd64 (10.1.243-3) ...\n",
            "Setting up libnppial10:amd64 (10.1.243-3) ...\n",
            "Setting up libnvvm3:amd64 (10.1.243-3) ...\n",
            "Setting up libcusparse10:amd64 (10.1.243-3) ...\n",
            "Setting up libnvrtc10.1:amd64 (10.1.243-3) ...\n",
            "Setting up node-html5shiv (3.7.3+dfsg-3) ...\n",
            "Setting up libxxf86dga1:amd64 (2:1.1.5-0ubuntu1) ...\n",
            "Setting up libcupti10.1:amd64 (10.1.243-3) ...\n",
            "Setting up libnppisu10:amd64 (10.1.243-3) ...\n",
            "Setting up libnppicc10:amd64 (10.1.243-3) ...\n",
            "Setting up libncurses5:amd64 (6.2-0ubuntu2) ...\n",
            "Setting up libnppicom10:amd64 (10.1.243-3) ...\n",
            "Setting up nvidia-profiler (10.1.243-3) ...\n",
            "Setting up libcusolver10:amd64 (10.1.243-3) ...\n",
            "Setting up libnvjpeg10:amd64 (10.1.243-3) ...\n",
            "Setting up libcublaslt10:amd64 (10.1.243-3) ...\n",
            "Setting up openjdk-8-jre-headless:amd64 (8u352-ga-1~20.04) ...\n",
            "update-alternatives: using /usr/lib/jvm/java-8-openjdk-amd64/jre/bin/orbd to provide /usr/bin/orbd (orbd) in auto mode\n",
            "update-alternatives: using /usr/lib/jvm/java-8-openjdk-amd64/jre/bin/servertool to provide /usr/bin/servertool (servertool) in auto mode\n",
            "update-alternatives: using /usr/lib/jvm/java-8-openjdk-amd64/jre/bin/tnameserv to provide /usr/bin/tnameserv (tnameserv) in auto mode\n",
            "Setting up libcusolvermg10:amd64 (10.1.243-3) ...\n",
            "Setting up libnpps10:amd64 (10.1.243-3) ...\n",
            "Setting up gcc-8-base:amd64 (8.4.0-3ubuntu2) ...\n",
            "Setting up fonts-dejavu-core (2.37-1) ...\n",
            "Setting up libcudart10.1:amd64 (10.1.243-3) ...\n",
            "Setting up libmpx2:amd64 (8.4.0-3ubuntu2) ...\n",
            "Setting up libcufft10:amd64 (10.1.243-3) ...\n",
            "Setting up fonts-dejavu-extra (2.37-1) ...\n",
            "Setting up libnppim10:amd64 (10.1.243-3) ...\n",
            "Setting up libnppitc10:amd64 (10.1.243-3) ...\n",
            "Setting up x11-utils (7.7+5) ...\n",
            "Setting up libnppist10:amd64 (10.1.243-3) ...\n",
            "Setting up libgtk2.0-common (2.24.32-4ubuntu4) ...\n",
            "Setting up libvdpau-dev:amd64 (1.3-1ubuntu2) ...\n",
            "Setting up libnvtoolsext1:amd64 (10.1.243-3) ...\n",
            "Setting up libatk-wrapper-java (0.37.1-1) ...\n",
            "Setting up libjs-jquery (3.3.1~dfsg-3) ...\n",
            "Setting up cpp-8 (8.4.0-3ubuntu2) ...\n",
            "Setting up libcurand10:amd64 (10.1.243-3) ...\n",
            "Setting up libnvgraph10:amd64 (10.1.243-3) ...\n",
            "Setting up libjs-underscore (1.9.1~dfsg-1ubuntu0.20.04.1) ...\n",
            "Setting up libnppig10:amd64 (10.1.243-3) ...\n",
            "Setting up libnppidei10:amd64 (10.1.243-3) ...\n",
            "Setting up libnppif10:amd64 (10.1.243-3) ...\n",
            "Setting up libcufftw10:amd64 (10.1.243-3) ...\n",
            "Setting up nvidia-cuda-gdb (10.1.243-3) ...\n",
            "Setting up libcublas10:amd64 (10.1.243-3) ...\n",
            "Setting up libgtk2.0-0:amd64 (2.24.32-4ubuntu4) ...\n",
            "Setting up libcupti-dev:amd64 (10.1.243-3) ...\n",
            "Setting up nsight-compute (10.1.243-3) ...\n",
            "Setting up libcupti-doc (10.1.243-3) ...\n",
            "Setting up libatk-wrapper-java-jni:amd64 (0.37.1-1) ...\n",
            "Setting up libnvblas10:amd64 (10.1.243-3) ...\n",
            "Setting up nvidia-cuda-doc (10.1.243-3) ...\n",
            "Setting up libgcc-8-dev:amd64 (8.4.0-3ubuntu2) ...\n",
            "Setting up libgail18:amd64 (2.24.32-4ubuntu4) ...\n",
            "Setting up libgtk2.0-bin (2.24.32-4ubuntu4) ...\n",
            "Setting up nsight-systems (10.1.243-3) ...\n",
            "Setting up libstdc++-8-dev:amd64 (8.4.0-3ubuntu2) ...\n",
            "Setting up gcc-8 (8.4.0-3ubuntu2) ...\n",
            "Setting up libgail-common:amd64 (2.24.32-4ubuntu4) ...\n",
            "Setting up nvidia-cuda-dev (10.1.243-3) ...\n",
            "Setting up openjdk-8-jre:amd64 (8u352-ga-1~20.04) ...\n",
            "update-alternatives: using /usr/lib/jvm/java-8-openjdk-amd64/jre/bin/policytool to provide /usr/bin/policytool (policytool) in auto mode\n",
            "Setting up g++-8 (8.4.0-3ubuntu2) ...\n",
            "Setting up nvidia-visual-profiler (10.1.243-3) ...\n",
            "Setting up nvidia-cuda-toolkit (10.1.243-3) ...\n",
            "Processing triggers for mime-support (3.64ubuntu1) ...\n",
            "Processing triggers for hicolor-icon-theme (0.17-2) ...\n",
            "Processing triggers for libc-bin (2.31-0ubuntu9.9) ...\n",
            "Processing triggers for man-db (2.9.1-1) ...\n",
            "Processing triggers for fontconfig (2.13.1-2ubuntu3) ...\n",
            "Looking in indexes: https://pypi.org/simple, https://us-python.pkg.dev/colab-wheels/public/simple/\n",
            "Requirement already satisfied: numba in /usr/local/lib/python3.8/dist-packages (0.56.4)\n",
            "Requirement already satisfied: llvmlite<0.40,>=0.39.0dev0 in /usr/local/lib/python3.8/dist-packages (from numba) (0.39.1)\n",
            "Requirement already satisfied: setuptools in /usr/local/lib/python3.8/dist-packages (from numba) (57.4.0)\n",
            "Requirement already satisfied: importlib-metadata in /usr/local/lib/python3.8/dist-packages (from numba) (6.0.0)\n",
            "Requirement already satisfied: numpy<1.24,>=1.18 in /usr/local/lib/python3.8/dist-packages (from numba) (1.21.6)\n",
            "Requirement already satisfied: zipp>=0.5 in /usr/local/lib/python3.8/dist-packages (from importlib-metadata->numba) (3.13.0)\n"
          ]
        }
      ]
    },
    {
      "cell_type": "code",
      "source": [
        "import os\n",
        "os.environ['NUMBAPRO_LIBDEVICE'] = \"/usr/lib/nvidia-cuda-toolkit/libdevice\"\n",
        "os.environ['NUMBAPRO_NVVM'] = \"/usr/lib/x86_64-linux-gnu/libnvvm.so\"\n"
      ],
      "metadata": {
        "id": "2mnXUaIvyqMF"
      },
      "execution_count": 34,
      "outputs": []
    },
    {
      "cell_type": "code",
      "source": [
        "#decorator to function definition to make it a CUDA kernel\n",
        "@cuda.jit\n",
        "def mandelbrot_gpu(mat, maxiter=100, xmin=-2.6, xmax=1.85, ymin=-1.25, ymax=1.25):\n",
        "    x = cuda.blockIdx.x\n",
        "    y = cuda.threadIdx.x\n",
        "    \n",
        "    # Mapping pixel to C\n",
        "    creal = xmin + x / mat.shape[0] * (xmax - xmin)\n",
        "    cim = ymin + y / mat.shape[1] * (ymax - ymin)\n",
        "    \n",
        "    # Initialisation of C and Z\n",
        "    c = complex(creal, cim)\n",
        "    z = complex(0, 0)\n",
        "    \n",
        "    # Mandelbrot iteration\n",
        "    for n in range(maxiter):\n",
        "        z = z*z+c\n",
        "        # If unbounded: save iteration count and break\n",
        "        if z.real*z.real + z.imag*z.imag > 4.0:\n",
        "            # Smooth iteration count\n",
        "            mat[x,y] = n + 1 - math.log(math.log(abs(z*z+c)))/math.log(2)\n",
        "            break\n",
        "        # Otherwise: leave it to 0\n"
      ],
      "metadata": {
        "id": "9IWiShzEWi7U"
      },
      "execution_count": 35,
      "outputs": []
    },
    {
      "cell_type": "code",
      "source": [
        "#function to draw image\n",
        "def draw_image(mat, cmap='inferno', powern=0.5, dpi=72):\n",
        "    ## Value normalization\n",
        "    # Apply power normalization, because number of iteration is \n",
        "    # distributed according to a power law (fewer pixels have \n",
        "    # higher iteration number)\n",
        "    mat = np.power(mat, powern)\n",
        "    \n",
        "    # Colormap: set the color the black for values under vmin (inner points of\n",
        "    # the set), vmin will be set in the imshow function\n",
        "    new_cmap = copy.copy(cm.get_cmap(cmap))\n",
        "    new_cmap.set_under('black')\n",
        "    \n",
        "    ## Plotting image\n",
        "    \n",
        "    # Figure size\n",
        "    plt.figure(figsize=(mat.shape[0]/dpi, mat.shape[1]/dpi))\n",
        "    \n",
        "    # Plotting mat with cmap\n",
        "    # vmin=1 because smooth iteration count is always > 1\n",
        "    # We need to transpose mat because images use row-major\n",
        "    # ordering (C convention)\n",
        "    # origin='lower' because mat[0,0] is the lower left pixel\n",
        "    plt.imshow(mat.T, cmap=new_cmap, vmin=1, origin = 'lower')\n",
        "    \n",
        "    # Remove axis and margins\n",
        "    plt.subplots_adjust(left=0, right=1, bottom=0, top=1)\n",
        "    plt.axis('off')"
      ],
      "metadata": {
        "id": "Vz8RNYdEFv78"
      },
      "execution_count": 36,
      "outputs": []
    },
    {
      "cell_type": "code",
      "source": [
        "pycuda.driver.init()\n",
        "pycuda.driver.Device(0).retain_primary_context()\n",
        "\n",
        "import time\n",
        "import math\n",
        "import numpy as np\n",
        "import matplotlib.pyplot as plt\n",
        "from matplotlib import cm\n",
        "import copy\n",
        "%matplotlib inline\n",
        "import math\n",
        "\n",
        "# Parameters\n",
        "xmin, xmax = -2.6, 1.85\n",
        "ymin, ymax = -1.25, 1.25\n",
        "xpixels = 600\n",
        "ypixels = round(xpixels / (xmax-xmin) * (ymax-ymin))\n",
        "\n",
        "maxiter = 100\n",
        "mat = np.zeros((xpixels, ypixels))\n",
        "\n",
        "# Running and plotting result\n",
        "mandelbrot_gpu[xpixels, ypixels](mat, maxiter, xmin, xmax, ymin, ymax)\n",
        "draw_image(mat)"
      ],
      "metadata": {
        "colab": {
          "base_uri": "https://localhost:8080/",
          "height": 403
        },
        "id": "clnE-RcurYi6",
        "outputId": "76e0d5c3-4b36-4608-9d1b-f6e7310e0633"
      },
      "execution_count": 38,
      "outputs": [
        {
          "output_type": "stream",
          "name": "stderr",
          "text": [
            "/usr/local/lib/python3.8/dist-packages/numba/cuda/cudadrv/devicearray.py:885: NumbaPerformanceWarning: Host array used in CUDA kernel will incur copy overhead to/from device.\n",
            "  warn(NumbaPerformanceWarning(msg))\n"
          ]
        },
        {
          "output_type": "display_data",
          "data": {
            "text/plain": [
              "<Figure size 600x337 with 1 Axes>"
            ],
            "image/png": "[encoded data removed]"
          },
          "metadata": {
            "needs_background": "light"
          }
        }
      ]
    }
  ]
}